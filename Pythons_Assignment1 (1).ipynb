{
  "nbformat": 4,
  "nbformat_minor": 0,
  "metadata": {
    "colab": {
      "provenance": []
    },
    "kernelspec": {
      "name": "python3",
      "display_name": "Python 3"
    },
    "language_info": {
      "name": "python"
    }
  },
  "cells": [
    {
      "cell_type": "markdown",
      "source": [
        "# Functions"
      ],
      "metadata": {
        "id": "ynUxLpvWaPSH"
      }
    },
    {
      "cell_type": "markdown",
      "source": [
        "1. What is python, and why it is popular?\n",
        "    - **Python** is a high-level, interpreted programming language known for being easy to read and simple to use.  \n",
        "**Reasons for popularity:**  \n",
        "- Easy-to-read syntax  \n",
        "- Large standard library  \n",
        "- Strong community support  \n",
        "- Versatility in areas like web development, data science, and automation\n",
        "\n",
        "2. What is an interperter in Python?\n",
        "    - An **interpreter** is a program that reads and runs code line by line, converting Python code into machine code while the program runs.\n",
        "\n",
        "3. What are pre-defined keywords in Python?\n",
        "    - **Pre-defined keywords** are reserved words with special meanings in Python (for example, `if`, `else`, `for`, `while`, `def`, `return`). They cannot be used as variable names.\n",
        "\n",
        "4. Can keywords be used as variable names?\n",
        "    - **No**, keywords cannot be used as variable names because they are reserved for Python syntax.\n",
        "\n",
        "5. What is mutability in Python?\n",
        "    - **Mutability** refers to whether an object’s value can change after it is created.  \n",
        "- **Mutable:** Can be changed (like lists and dictionaries)  \n",
        "- **Immutable:** Cannot be changed (like strings and tuples)\n",
        "\n",
        "6. What are lists mutable, nut tuples are immutable?\n",
        "    - **Lists** are mutable because you can change, add, or remove their elements.  \n",
        "      **Tuples** are immutable because their elements cannot be changed once they are created.\n",
        "\n",
        "7. What is the difference between \"==\" and \"is\" operators in Python?\n",
        "    - - `==` checks **value equality** (whether the values are the same).\n",
        "  - `is` checks **identity** (whether both refer to the same object in memory).\n",
        "\n",
        "8. What are logical operators in Python?\n",
        "  - **Logical operators:**  \n",
        "  - `and` (True if both operands are true)  \n",
        "  - `or` (True if at least one operand is true)  \n",
        "  - `not` (Inverts the truth value)\n",
        "\n",
        "9. What is type casting in Python?\n",
        "    - **Type casting** changes a value from one data type to another (for example, `int(\"5\")` converts the string `\"5\"` into the integer `5`).\n",
        "\n",
        "10. What is the difference between implicit and explicit type casting?\n",
        "    - **Implicit:** Python automatically changes types (for example, from `int` to `float` in expressions).\n",
        "    - **Explicit:** The programmer manually changes types using functions like `int()`, `float()`, or `str()`.\n",
        "\n",
        "11. What is the purpose of conditional statements in Python?\n",
        "    - **Conditional statements** (like `if`, `elif`, `else`) help the code make decisions and run different blocks based on certain conditions.\n",
        "\n",
        "12. How does the elif statement work?\n",
        "    - `elif` (else if) checks another condition if the previous `if` or `elif` conditions are False. It lets you check multiple conditions in order.\n",
        "\n",
        "13. What is the difference between for and while loops?\n",
        "  - **for loop:** Used to go through a sequence (like a list, tuple, or range).\n",
        "  - **while loop:** Repeats as long as a condition is True.\n",
        "\n",
        "14. Describe a scenario where a while loop is more suitable than a for loop.\n",
        "    - A **while loop** is better when the number of iterations isn't known ahead of time, like reading user input until they type 'exit'.\n"
      ],
      "metadata": {
        "id": "5Bt2OCPsaqjt"
      }
    },
    {
      "cell_type": "code",
      "source": [],
      "metadata": {
        "id": "Aq1wwc8paR-F"
      },
      "execution_count": null,
      "outputs": []
    },
    {
      "cell_type": "markdown",
      "source": [
        "# Pratical Questions\n"
      ],
      "metadata": {
        "id": "rgaGZAzCicFw"
      }
    },
    {
      "cell_type": "markdown",
      "source": [],
      "metadata": {
        "id": "-oO0f92SZ0NK"
      }
    },
    {
      "cell_type": "code",
      "source": [
        "# 1. Write a Python program to print \"Hello, World!\"\n",
        "\n",
        "\"\"\"\n",
        "print(\"Hello, World!\")\n",
        "\"\"\""
      ],
      "metadata": {
        "id": "fw-EOm3Wi1Ic",
        "colab": {
          "base_uri": "https://localhost:8080/",
          "height": 36
        },
        "outputId": "fb422929-e63d-45c4-9d74-01ec4d31385b"
      },
      "execution_count": 1,
      "outputs": [
        {
          "output_type": "execute_result",
          "data": {
            "text/plain": [
              "'\\nprint(\"Hello, World!\")\\n'"
            ],
            "application/vnd.google.colaboratory.intrinsic+json": {
              "type": "string"
            }
          },
          "metadata": {},
          "execution_count": 1
        }
      ]
    },
    {
      "cell_type": "code",
      "source": [
        "# 2. Write a Python program that displays your name and age.\n",
        "\n",
        "\"\"\"\n",
        "name = \"Your Name\"\n",
        "age = 25  # Replace with your age\n",
        "print(\"Name:\", name)\n",
        "print(\"Age:\", age)\n",
        "\"\"\""
      ],
      "metadata": {
        "colab": {
          "base_uri": "https://localhost:8080/",
          "height": 36
        },
        "id": "8U6JFD7Lg7UY",
        "outputId": "e75b5ee2-d8b8-49f4-a7a7-c2a21e037fd6"
      },
      "execution_count": 6,
      "outputs": [
        {
          "output_type": "execute_result",
          "data": {
            "text/plain": [
              "'\\nname = \"Your Name\"\\nage = 25  # Replace with your age\\nprint(\"Name:\", name)\\nprint(\"Age:\", age)\\n'"
            ],
            "application/vnd.google.colaboratory.intrinsic+json": {
              "type": "string"
            }
          },
          "metadata": {},
          "execution_count": 6
        }
      ]
    },
    {
      "cell_type": "code",
      "source": [
        "# 3. Write code to print all the pre-defined keywords in Python using the keyword library.\n",
        "\n",
        "\"\"\"\n",
        "import keyword\n",
        "print(keyword.kwlist)\n",
        "\"\"\""
      ],
      "metadata": {
        "id": "fmbb_c8IhchS"
      },
      "execution_count": null,
      "outputs": []
    },
    {
      "cell_type": "markdown",
      "source": [],
      "metadata": {
        "id": "gfzU1-Uyh1BU"
      }
    },
    {
      "cell_type": "code",
      "source": [
        "# 4. Write a program that checks if a given word is a Python keyword.\n",
        "\"\"\"\n",
        "import keyword\n",
        "word = input(\"Enter a word: \")\n",
        "if keyword.iskeyword(word):\n",
        "    print(f\"{word} is a Python keyword.\")\n",
        "else:\n",
        "    print(f\"{word} is NOT a Python keyword.\")\n",
        "\"\"\""
      ],
      "metadata": {
        "colab": {
          "base_uri": "https://localhost:8080/",
          "height": 36
        },
        "id": "N5Po07bzhsrF",
        "outputId": "0bc19c0c-0541-4387-8da7-57e39f8b6ee7"
      },
      "execution_count": 7,
      "outputs": [
        {
          "output_type": "execute_result",
          "data": {
            "text/plain": [
              "'\\nimport keyword\\nword = input(\"Enter a word: \")\\nif keyword.iskeyword(word):\\n    print(f\"{word} is a Python keyword.\")\\nelse:\\n    print(f\"{word} is NOT a Python keyword.\")\\n'"
            ],
            "application/vnd.google.colaboratory.intrinsic+json": {
              "type": "string"
            }
          },
          "metadata": {},
          "execution_count": 7
        }
      ]
    },
    {
      "cell_type": "code",
      "source": [
        "# 5. Create a list and tuple in Python, and demonstrate how attempting to change an element works differently for each.\n",
        "\n",
        "\"\"\"\n",
        "# List (mutable)\n",
        "my_list = [1, 2, 3]\n",
        "my_list[0] = 10  # This works\n",
        "\n",
        "# Tuple (immutable)\n",
        "my_tuple = (1, 2, 3)\n",
        "try:\n",
        "    my_tuple[0] = 10  # This will cause an error\n",
        "except TypeError as e:\n",
        "    print(\"Error:\", e)\n",
        "\n",
        "print(\"List after modification:\", my_list)\n",
        "print(\"Tuple after modification attempt:\", my_tuple)\n",
        "\"\"\""
      ],
      "metadata": {
        "id": "4bIaeybth8yB"
      },
      "execution_count": null,
      "outputs": []
    },
    {
      "cell_type": "code",
      "source": [
        "# 6. Write a function to demonstrate the behavior of mutable and immutable arguments.\n",
        "\"\"\"\n",
        "def modify_list(lst):\n",
        "    lst.append(10)\n",
        "\n",
        "def modify_int(n):\n",
        "    n += 10\n",
        "\n",
        "my_list = [1, 2, 3]\n",
        "my_num = 5\n",
        "\n",
        "modify_list(my_list)\n",
        "modify_int(my_num)\n",
        "\n",
        "print(\"List after function call:\", my_list)  # Mutable: changed\n",
        "print(\"Number after function call:\", my_num)  # Immutable: unchanged\n",
        "\"\"\""
      ],
      "metadata": {
        "id": "hU5wFzyrihZg"
      },
      "execution_count": null,
      "outputs": []
    },
    {
      "cell_type": "code",
      "source": [
        "# 7. Write a program that performs basic arithmetic operations on two user-input numbers.\n",
        "\"\"\"\n",
        "a = float(input(\"Enter first number: \"))\n",
        "b = float(input(\"Enter second number: \"))\n",
        "print(\"Sum:\", a + b)\n",
        "print(\"Difference:\", a - b)\n",
        "print(\"Product:\", a * b)\n",
        "print(\"Quotient:\", a / b if b != 0 else \"Cannot divide by zero\")\n",
        "\"\"\""
      ],
      "metadata": {
        "id": "4SCS9zvXirhY"
      },
      "execution_count": null,
      "outputs": []
    },
    {
      "cell_type": "code",
      "source": [
        "# 8. Write a program to demonstrate the use of logical operators.\n",
        "\"\"\"\n",
        "x = True\n",
        "y = False\n",
        "print(\"x and y:\", x and y)\n",
        "print(\"x or y:\", x or y)\n",
        "print(\"not x:\", not x)\n",
        "\"\"\""
      ],
      "metadata": {
        "id": "o3WR0wPTjBL6"
      },
      "execution_count": null,
      "outputs": []
    },
    {
      "cell_type": "code",
      "source": [
        "# 9. Write a Python program to convert user input from string to integer, float, and boolean types.\n",
        "\"\"\"\n",
        "user_input = input(\"Enter a value: \")\n",
        "int_val = int(user_input)\n",
        "float_val = float(user_input)\n",
        "bool_val = bool(int(user_input))  # Any non-zero integer is True\n",
        "\n",
        "print(\"Integer:\", int_val)\n",
        "print(\"Float:\", float_val)\n",
        "print(\"Boolean:\", bool_val)\n",
        "\"\"\""
      ],
      "metadata": {
        "id": "c6uEvT58jMpE"
      },
      "execution_count": null,
      "outputs": []
    },
    {
      "cell_type": "code",
      "source": [
        "# 10. Write code to demonstrate type casting with list elements.\n",
        "\"\"\"\n",
        "str_list = ['1', '2', '3']\n",
        "int_list = [int(x) for x in str_list]\n",
        "print(\"Original list:\", str_list)\n",
        "print(\"After type casting to int:\", int_list)\n",
        "\"\"\""
      ],
      "metadata": {
        "id": "p35b-8rQjVAh"
      },
      "execution_count": null,
      "outputs": []
    },
    {
      "cell_type": "code",
      "source": [
        "# 11. Write a program that checks if a number is positive, negative, or zero.\n",
        "\"\"\"\n",
        "num = float(input(\"Enter a number: \"))\n",
        "if num > 0:\n",
        "    print(\"Positive\")\n",
        "elif num < 0:\n",
        "    print(\"Negative\")\n",
        "else:\n",
        "    print(\"Zero\")\n",
        "\"\"\""
      ],
      "metadata": {
        "id": "ReFdnVdcjdtg"
      },
      "execution_count": null,
      "outputs": []
    },
    {
      "cell_type": "code",
      "source": [
        "# 12. Write a for loop to print numbers from 1 to 10.\n",
        "\"\"\"\n",
        "for i in range(1, 11):\n",
        "    print(i)\n",
        "\"\"\""
      ],
      "metadata": {
        "id": "nXlXbALjjn9x"
      },
      "execution_count": null,
      "outputs": []
    },
    {
      "cell_type": "code",
      "source": [
        "# 13. Write a Python program to find the sum of all even numbers between 1 and 50.\n",
        "\"\"\"\n",
        "even_sum = 0\n",
        "for i in range(2, 51, 2):\n",
        "    even_sum += i\n",
        "print(\"Sum of even numbers between 1 and 50:\", even_sum)\n",
        "\"\"\""
      ],
      "metadata": {
        "id": "psPBJHuwjxO5"
      },
      "execution_count": null,
      "outputs": []
    },
    {
      "cell_type": "code",
      "source": [
        "# 14. Write a program to reverse a string using a while loop.\n",
        "\"\"\"\n",
        "s = input(\"Enter a string: \")\n",
        "reversed_s = \"\"\n",
        "i = len(s) - 1\n",
        "while i >= 0:\n",
        "    reversed_s += s[i]\n",
        "    i -= 1\n",
        "print(\"Reversed string:\", reversed_s)\n",
        "\"\"\""
      ],
      "metadata": {
        "id": "Z_SRlX8aj7Cg"
      },
      "execution_count": null,
      "outputs": []
    },
    {
      "cell_type": "code",
      "source": [
        "# 15. Write a Python program to calculate the factorial of a number provided by the user using a while loop.\n",
        "\"\"\"\n",
        "n = int(input(\"Enter a number: \"))\n",
        "fact = 1\n",
        "i = 1\n",
        "while i <= n:\n",
        "    fact *= i\n",
        "    i += 1\n",
        "print(f\"Factorial of {n} is {fact}\")\n",
        "\"\"\""
      ],
      "metadata": {
        "id": "w7c1UEIhkGiw"
      },
      "execution_count": null,
      "outputs": []
    }
  ]
}